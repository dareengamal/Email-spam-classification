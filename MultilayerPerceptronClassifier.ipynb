{
  "nbformat": 4,
  "nbformat_minor": 0,
  "metadata": {
    "colab": {
      "provenance": []
    },
    "kernelspec": {
      "name": "python3",
      "display_name": "Python 3"
    },
    "language_info": {
      "name": "python"
    }
  },
  "cells": [
    {
      "cell_type": "code",
      "execution_count": null,
      "metadata": {
        "colab": {
          "base_uri": "https://localhost:8080/"
        },
        "id": "mWsfFOHNq92M",
        "outputId": "4b30b6e0-e82a-42c3-e1a7-6adf03237e83"
      },
      "outputs": [
        {
          "output_type": "stream",
          "name": "stdout",
          "text": [
            "Looking in indexes: https://pypi.org/simple, https://us-python.pkg.dev/colab-wheels/public/simple/\n",
            "Requirement already satisfied: pyspark in /usr/local/lib/python3.10/dist-packages (3.4.0)\n",
            "Requirement already satisfied: py4j==0.10.9.7 in /usr/local/lib/python3.10/dist-packages (from pyspark) (0.10.9.7)\n",
            "Looking in indexes: https://pypi.org/simple, https://us-python.pkg.dev/colab-wheels/public/simple/\n",
            "Requirement already satisfied: findspark in /usr/local/lib/python3.10/dist-packages (2.0.1)\n",
            "Looking in indexes: https://pypi.org/simple, https://us-python.pkg.dev/colab-wheels/public/simple/\n",
            "Requirement already satisfied: pandas in /usr/local/lib/python3.10/dist-packages (1.5.3)\n",
            "Requirement already satisfied: python-dateutil>=2.8.1 in /usr/local/lib/python3.10/dist-packages (from pandas) (2.8.2)\n",
            "Requirement already satisfied: pytz>=2020.1 in /usr/local/lib/python3.10/dist-packages (from pandas) (2022.7.1)\n",
            "Requirement already satisfied: numpy>=1.21.0 in /usr/local/lib/python3.10/dist-packages (from pandas) (1.22.4)\n",
            "Requirement already satisfied: six>=1.5 in /usr/local/lib/python3.10/dist-packages (from python-dateutil>=2.8.1->pandas) (1.16.0)\n"
          ]
        }
      ],
      "source": [
        "# Installing required packages\n",
        "!pip install pyspark\n",
        "!pip install findspark\n",
        "!pip install pandas"
      ]
    },
    {
      "cell_type": "code",
      "source": [
        "from pyspark.ml.classification import MultilayerPerceptronClassifier\n",
        "from pyspark.ml.evaluation import MulticlassClassificationEvaluator"
      ],
      "metadata": {
        "id": "dhVmIPXyz11U"
      },
      "execution_count": null,
      "outputs": []
    },
    {
      "cell_type": "code",
      "source": [
        "import pandas as pd\n",
        "from pyspark import SparkContext, SparkConf\n",
        "from pyspark.sql import SparkSession\n",
        "from pyspark.ml import Pipeline\n",
        "from pyspark.ml.feature import VectorAssembler\n",
        "from pyspark.ml.classification import LogisticRegression\n",
        "from sklearn.metrics import accuracy_score\n",
        "from pyspark.ml.feature import OneHotEncoder, StringIndexer, VectorAssembler\n",
        "from pyspark.ml import Pipeline\n",
        "from pyspark.ml.feature import VectorAssembler\n",
        "from pyspark.ml.classification import LogisticRegression\n",
        "from sklearn.metrics import accuracy_score\n",
        "from pyspark.sql import SparkSession\n",
        "import pandas as pd\n"
      ],
      "metadata": {
        "id": "XOFsjlwez14D"
      },
      "execution_count": null,
      "outputs": []
    },
    {
      "cell_type": "code",
      "source": [
        "import findspark\n",
        "findspark.init()"
      ],
      "metadata": {
        "id": "32uv5nbH0lFN"
      },
      "execution_count": null,
      "outputs": []
    },
    {
      "cell_type": "code",
      "source": [
        "from pyspark.sql import SparkSession\n",
        "spark = SparkSession.builder.appName('ml-bank').getOrCreate()\n",
        "df = spark.read.csv('emails.csv', header = True, inferSchema = True)\n",
        "df.printSchema()"
      ],
      "metadata": {
        "colab": {
          "base_uri": "https://localhost:8080/"
        },
        "id": "OPz-LD520b7s",
        "outputId": "8ace8485-d925-47aa-8380-e32dae692912"
      },
      "execution_count": null,
      "outputs": [
        {
          "output_type": "stream",
          "name": "stdout",
          "text": [
            "root\n",
            " |-- Email No.: string (nullable = true)\n",
            " |-- the: integer (nullable = true)\n",
            " |-- to: integer (nullable = true)\n",
            " |-- for: integer (nullable = true)\n",
            " |-- a: integer (nullable = true)\n",
            " |-- you: integer (nullable = true)\n",
            " |-- hou: integer (nullable = true)\n",
            " |-- is: integer (nullable = true)\n",
            " |-- this: integer (nullable = true)\n",
            " |-- i: integer (nullable = true)\n",
            " |-- your: integer (nullable = true)\n",
            " |-- we: integer (nullable = true)\n",
            " |-- are: integer (nullable = true)\n",
            " |-- com: integer (nullable = true)\n",
            " |-- please: integer (nullable = true)\n",
            " |-- price: integer (nullable = true)\n",
            " |-- attached: integer (nullable = true)\n",
            " |-- th: integer (nullable = true)\n",
            " |-- forward: integer (nullable = true)\n",
            " |-- u: integer (nullable = true)\n",
            " |-- click: integer (nullable = true)\n",
            " |-- unsubscribe: integer (nullable = true)\n",
            " |-- pro: integer (nullable = true)\n",
            " |-- therefore: integer (nullable = true)\n",
            " |-- cc: integer (nullable = true)\n",
            " |-- prize: integer (nullable = true)\n",
            " |-- hi: integer (nullable = true)\n",
            " |-- deadline: integer (nullable = true)\n",
            " |-- ur: integer (nullable = true)\n",
            " |-- Spam: integer (nullable = true)\n",
            "\n"
          ]
        }
      ]
    },
    {
      "cell_type": "code",
      "source": [
        "cols = df.columns"
      ],
      "metadata": {
        "id": "xV5OAx4o68-_"
      },
      "execution_count": null,
      "outputs": []
    },
    {
      "cell_type": "code",
      "source": [
        "from pyspark.ml.feature import OneHotEncoder, StringIndexer, VectorAssembler\n",
        "\n",
        "numericCols = ['the','to','for','a','you','hou','is','this','i','your','we','are','com','please','price','attached','th','forward',\n",
        "               'u','click','unsubscribe','pro','therefore','cc','prize','hi','deadline','ur']\n",
        "featurizationPipeline = Pipeline(stages = [VectorAssembler(inputCols=numericCols, outputCol=\"features\")])"
      ],
      "metadata": {
        "id": "5uleMC7pv62k"
      },
      "execution_count": null,
      "outputs": []
    },
    {
      "cell_type": "code",
      "source": [
        "from pyspark.ml import Pipeline\n",
        "\n",
        "pipelineModel = featurizationPipeline.fit(df)\n",
        "df = pipelineModel.transform(df)\n"
      ],
      "metadata": {
        "id": "N-_Y2eGM6q1A"
      },
      "execution_count": null,
      "outputs": []
    },
    {
      "cell_type": "code",
      "source": [
        "splits = df.randomSplit([0.6, 0.4], 1234)\n",
        "train = splits[0]\n",
        "test = splits[1]"
      ],
      "metadata": {
        "id": "T2FDyxtbxww9"
      },
      "execution_count": null,
      "outputs": []
    },
    {
      "cell_type": "code",
      "source": [
        "# specify layers for the neural network:\n",
        "# input layer of size 4 (features), two intermediate of size 5 and 4\n",
        "# and output of size 3 (classes)\n",
        "layers = [28, 14, 4,2 ]"
      ],
      "metadata": {
        "id": "qsOT3Tpgxwzk"
      },
      "execution_count": null,
      "outputs": []
    },
    {
      "cell_type": "code",
      "source": [
        "from pyspark.ml.classification import MultilayerPerceptronClassifier\n",
        "from pyspark.ml.evaluation import MulticlassClassificationEvaluator\n"
      ],
      "metadata": {
        "id": "R2gO0EL9xw1j"
      },
      "execution_count": null,
      "outputs": []
    },
    {
      "cell_type": "code",
      "source": [
        "# create the trainer and set its parameters\n",
        "trainer = MultilayerPerceptronClassifier(maxIter=100, layers=layers, blockSize=128, seed=1234).setLabelCol('Spam')"
      ],
      "metadata": {
        "id": "SUMfBcHU1U7-"
      },
      "execution_count": null,
      "outputs": []
    },
    {
      "cell_type": "code",
      "source": [
        "# train the model\n",
        "model = trainer.fit(train)"
      ],
      "metadata": {
        "id": "b9e6XCdIxw3k"
      },
      "execution_count": null,
      "outputs": []
    },
    {
      "cell_type": "code",
      "source": [
        "\n",
        "predictions = model.transform(test)"
      ],
      "metadata": {
        "id": "70ivQ94R_RmB"
      },
      "execution_count": null,
      "outputs": []
    },
    {
      "cell_type": "code",
      "source": [
        "true_labels=predictions.select('Spam')\n",
        "lr_predictions=predictions.select('prediction')\n",
        "\n",
        "accuracy = accuracy_score(true_labels.toPandas(), lr_predictions.toPandas())\n",
        "print(\"Logistic Regression Accuracy =\",accuracy*100,\"%\")"
      ],
      "metadata": {
        "colab": {
          "base_uri": "https://localhost:8080/"
        },
        "id": "3fHc0J__1utm",
        "outputId": "1fc9ecca-0360-4107-9115-22d7fc6cb6c7"
      },
      "execution_count": null,
      "outputs": [
        {
          "output_type": "stream",
          "name": "stdout",
          "text": [
            "Logistic Regression Accuracy = 85.36585365853658 %\n"
          ]
        }
      ]
    }
  ]
}